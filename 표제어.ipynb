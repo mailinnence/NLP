{
 "cells": [
  {
   "cell_type": "code",
   "execution_count": 14,
   "id": "81759404",
   "metadata": {},
   "outputs": [],
   "source": [
    "import math\n",
    "import logging\n",
    "from datetime import datetime\n",
    "\n",
    "\n",
    "import torch\n",
    "from torch.utils.data import DataLoader\n",
    "from datasets import load_dataset\n",
    "from sentence_transformers import SentenceTransformer,  LoggingHandler, losses, models, util\n",
    "from sentence_transformers.evaluation import EmbeddingSimilarityEvaluator\n",
    "from sentence_transformers.readers import InputExample"
   ]
  },
  {
   "cell_type": "code",
   "execution_count": 15,
   "id": "95d31eef",
   "metadata": {},
   "outputs": [
    {
     "name": "stderr",
     "output_type": "stream",
     "text": [
      "Found cached dataset klue (C:/Users/maili/.cache/huggingface/datasets/klue/sts/1.0.0/e0fc3bc3de3eb03be2c92d72fd04a60ecc71903f821619cb28ca0e1e29e4233e)\n"
     ]
    },
    {
     "data": {
      "application/vnd.jupyter.widget-view+json": {
       "model_id": "ee6de52136484fd9859a3045ba418f4d",
       "version_major": 2,
       "version_minor": 0
      },
      "text/plain": [
       "  0%|          | 0/2 [00:00<?, ?it/s]"
      ]
     },
     "metadata": {},
     "output_type": "display_data"
    },
    {
     "name": "stderr",
     "output_type": "stream",
     "text": [
      "Found cached dataset kor_nlu (C:/Users/maili/.cache/huggingface/datasets/kor_nlu/sts/1.0.0/4facbba77df60b0658056ced2052633e681a50187b9428bd5752ebd59d332ba8)\n"
     ]
    },
    {
     "data": {
      "application/vnd.jupyter.widget-view+json": {
       "model_id": "0d75f7cae1c649859fa03105d6d3e0b3",
       "version_major": 2,
       "version_minor": 0
      },
      "text/plain": [
       "  0%|          | 0/3 [00:00<?, ?it/s]"
      ]
     },
     "metadata": {},
     "output_type": "display_data"
    }
   ],
   "source": [
    "datasets = load_dataset(\"klue\", \"sts\")\n",
    "testsets = load_dataset(\"kor_nlu\", \"sts\")\n",
    "train_samples = []\n",
    "dev_samples = []\n",
    "test_samples = []\n",
    "\n",
    "# KLUE STS 내 훈련, 검증 데이터 예제 변환\n",
    "for phase in [\"train\", \"validation\"]:\n",
    "    examples = datasets[phase]\n",
    "\n",
    "    for example in examples:\n",
    "        score = float(example[\"labels\"][\"label\"]) / 5.0  # 0.0 ~ 1.0 스케일로 유사도 정규화\n",
    "\n",
    "        inp_example = InputExample(\n",
    "            texts=[example[\"sentence1\"], example[\"sentence2\"]], \n",
    "            label=score,\n",
    "        )\n",
    "\n",
    "        if phase == \"validation\":\n",
    "            dev_samples.append(inp_example)\n",
    "        else:\n",
    "            train_samples.append(inp_example)\n",
    "\n",
    "# KorSTS 내 테스트 데이터 예제 변환\n",
    "for example in testsets[\"test\"]:\n",
    "    score = float(example[\"score\"]) / 5.0\n",
    "\n",
    "    if example[\"sentence1\"] and example[\"sentence2\"]:\n",
    "        inp_example = InputExample(\n",
    "            texts=[example[\"sentence1\"], example[\"sentence2\"]],\n",
    "            label=score,\n",
    "        )\n",
    "\n",
    "    test_samples.append(inp_example)\n",
    "    \n"
   ]
  },
  {
   "cell_type": "code",
   "execution_count": 18,
   "id": "0d32a9d2",
   "metadata": {},
   "outputs": [
    {
     "name": "stdout",
     "output_type": "stream",
     "text": [
      "입력 문장: 12345\n",
      "\n",
      "<입력 문장과 유사한 2 개의 문장>\n",
      "\n",
      "1: 12345 (유사도: 1.0000)\n",
      "\n",
      "2: 15432 (유사도: 0.4535)\n",
      "\n"
     ]
    }
   ],
   "source": [
    "model_save_path = \"training_klue_sts_klue-roberta-base-2022-12-19_04-33-15\"\n",
    "model = SentenceTransformer(model_save_path)\n",
    "test_evaluator = EmbeddingSimilarityEvaluator.from_input_examples(test_samples, name='sts-test')\n",
    "test_evaluator(model, output_path=model_save_path)\n",
    "# print(test_evaluator(model, output_path=model_save_path))\n",
    "\n",
    "\n",
    "# from konlpy.tag import Okt\n",
    "# voc = '심근경색 전조증상이 의심됩니다 주위에서 골든타임 특히 조심해야 한다고 중간중간 체크하라고 하네요 특히 가슴 통증하고 만성피로가 느껴진다고 했었거든요'\n",
    "# okt_pos = Okt().pos(voc, norm=True, stem=True)\n",
    "# print(okt_pos)\n",
    "\n",
    "\n",
    "\n",
    "docs = [\n",
    "        \"12345\",\n",
    "        \"15432\"\n",
    "]\n",
    "document_embeddings = model.encode(docs)\n",
    "\n",
    "query = \"12345\"\n",
    "query_embedding = model.encode(query)\n",
    "\n",
    "\n",
    "top_k = min(5, len(docs))\n",
    "\n",
    "# 입력 문장 - 문장 후보군 간 코사인 유사도 계산 후,\n",
    "cos_scores = util.pytorch_cos_sim(query_embedding, document_embeddings)[0]\n",
    "\n",
    "# 코사인 유사도 순으로 `top_k` 개 문장 추출\n",
    "top_results = torch.topk(cos_scores, k=top_k)\n",
    "\n",
    "print(f\"입력 문장: {query}\")\n",
    "print(f\"\\n<입력 문장과 유사한 {top_k} 개의 문장>\\n\")\n",
    "\n",
    "for i, (score, idx) in enumerate(zip(top_results[0], top_results[1])):\n",
    "    if score > 0.2:\n",
    "        print(f\"{i+1}: {docs[idx]} {'(유사도: {:.4f})'.format(score)}\\n\")"
   ]
  },
  {
   "cell_type": "code",
   "execution_count": 9,
   "id": "ec1a15bf",
   "metadata": {},
   "outputs": [
    {
     "name": "stdout",
     "output_type": "stream",
     "text": [
      "가슴 쥐다 짜다 거 같다 숨 쉬다 힘들다\n"
     ]
    }
   ],
   "source": [
    "\n",
    "from konlpy.tag import Okt\n",
    "voc = '가슴을 쥐어짜는 거 같아요 숨을 쉬기 힘들어요'\n",
    "okt_pos = Okt().pos(voc, norm=True, stem=True)\n",
    "\n",
    "list1 = []\n",
    "list1 = []\n",
    "for i in range(len(okt_pos)):\n",
    "    if okt_pos[i][1] == \"Noun\":\n",
    "        list1.append(okt_pos[i][0])\n",
    "    elif okt_pos[i][1] == \"Verb\":\n",
    "        list1.append(okt_pos[i][0])\n",
    "    elif okt_pos[i][1] == \"Adjective\":\n",
    "        list1.append(okt_pos[i][0])\n",
    "\n",
    "str =\" \".join(list1)\n",
    "print(str)\n"
   ]
  },
  {
   "cell_type": "code",
   "execution_count": 12,
   "id": "8188dcc1",
   "metadata": {},
   "outputs": [
    {
     "name": "stdout",
     "output_type": "stream",
     "text": [
      "[[0 1 0 1 0 0 0 0 1 0 0 0 0 0 0 0 0 0 1 0 0 0 0 0 1 0 0 0 0 0 0 0 1 0 1 1\n",
      "  1 1 1 1 2 1 1 0 1 0]\n",
      " [1 0 2 0 1 1 1 1 0 2 1 1 1 1 1 1 1 1 0 1 1 1 1 1 0 2 1 1 1 1 1 1 0 1 0 0\n",
      "  0 0 0 0 0 0 0 2 0 1]]\n"
     ]
    },
    {
     "data": {
      "text/plain": [
       "0.0"
      ]
     },
     "execution_count": 12,
     "metadata": {},
     "output_type": "execute_result"
    }
   ],
   "source": [
    "from sklearn.feature_extraction.text import CountVectorizer\n",
    "corpus = [\n",
    "      \"심근경색 전조증상이 의심됩니다 주위에서 골든타임 특히 조심해야 한다고 중간중간 체크하라고 하네요 특히 가슴 통증하고 만성피로가 느껴진다고 했었거든요\",\n",
    "        \"왼쪽 가슴이 시린 느낌 싸한 느낌이라고 할지 서늘하다고 할지 모를 느낌입니다 눌러서 아픈 곳은 없으나 가슴이 답답하고 이 불쾌감 때문에 안절부절못하게 됩니다 가끔가다 명치부터 올라오는 싸한 느낌 혹은 놀이 기구 등을 탈 때의 얼얼한 느낌이 있습니다\"\n",
    "]\n",
    "vector = CountVectorizer()\n",
    "print(vector.fit_transform(corpus).toarray()) # 코퍼스로부터 각 단어의 빈도 수를 기록한다.\n",
    "#print(vector.vocabulary_) #\n",
    "\n",
    "\n",
    "\n",
    "\n",
    "import numpy as np\n",
    "from numpy import dot\n",
    "from numpy.linalg import norm\n",
    "\n",
    "def cosine_similarity(A, B):\n",
    "    return dot(A, B)/(norm(A)*norm(B))\n",
    "\n",
    "k = vector.fit_transform(corpus).toarray()\n",
    "cosine_similarity(k[0], k[1])"
   ]
  }
 ],
 "metadata": {
  "kernelspec": {
   "display_name": "mldl",
   "language": "python",
   "name": "mldl"
  },
  "language_info": {
   "codemirror_mode": {
    "name": "ipython",
    "version": 3
   },
   "file_extension": ".py",
   "mimetype": "text/x-python",
   "name": "python",
   "nbconvert_exporter": "python",
   "pygments_lexer": "ipython3",
   "version": "3.8.15"
  }
 },
 "nbformat": 4,
 "nbformat_minor": 5
}
